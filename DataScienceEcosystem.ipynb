{
 "cells": [
  {
   "cell_type": "markdown",
   "id": "8174513d-45f4-4e63-b3fe-80d97966d814",
   "metadata": {},
   "source": [
    "# Data Science Tools And Ecosystem"
   ]
  },
  {
   "cell_type": "markdown",
   "id": "90bc03f6-6fc7-4380-acca-ce76934b334f",
   "metadata": {},
   "source": [
    "## In this notebook, Data Science Tools and Ecosystem are summarized"
   ]
  },
  {
   "cell_type": "markdown",
   "id": "997ce366-0d74-49ff-9627-50708bf1a066",
   "metadata": {
    "tags": []
   },
   "source": [
    "**Objectives:**\n",
    "\n",
    "- List popular languages for Data Science\n",
    "- Highlight commonly used libraries in Data Science\n",
    "- Convert minutes to hours using Python expressions\n",
    "- Create and format Markdown tables in Jupyter Notebook\n",
    "- Organize content in Markdown cells effectively\n"
   ]
  },
  {
   "cell_type": "markdown",
   "id": "fd5fee31-abd3-436f-8de3-25c545905921",
   "metadata": {},
   "source": [
    "### Some of the popular languages that Data Scientists use are:\n",
    "1. Python\n",
    "2. r\n",
    "3. Java\n",
    "4. julia\n"
   ]
  },
  {
   "cell_type": "markdown",
   "id": "a8d75d8e-8993-4d58-9914-39559a699edb",
   "metadata": {},
   "source": [
    "### Some of the commonly used libraries used by Data Scientists include:\n",
    "\n",
    "1. Nympy\n",
    "2. Pandas\n",
    "3. Matpoltlib\n",
    "4. scikit-learn\n"
   ]
  },
  {
   "cell_type": "markdown",
   "id": "fc64baa6-b0d1-4f2f-8735-1777e1fea8c0",
   "metadata": {},
   "source": [
    "| Data Science Tools         |\n",
    "|----------------------------|\n",
    "| Jupyter Notebook           |\n",
    "| RStudio                    |\n",
    "| VS Code with Python plugin |\n"
   ]
  },
  {
   "cell_type": "markdown",
   "id": "79152d58-d8ed-40d7-8179-018982f93170",
   "metadata": {},
   "source": [
    "### Below are a few examples of evaluating arithmetic expressions in Python"
   ]
  },
  {
   "cell_type": "code",
   "execution_count": 1,
   "id": "e5304f79-9ec5-47ce-9e92-94be4352d07d",
   "metadata": {
    "tags": []
   },
   "outputs": [
    {
     "data": {
      "text/plain": [
       "17"
      ]
     },
     "execution_count": 1,
     "metadata": {},
     "output_type": "execute_result"
    }
   ],
   "source": [
    "# This a simple arithmetic expression to mutiply then add integers\n",
    "(3*4)+5"
   ]
  },
  {
   "cell_type": "code",
   "execution_count": 2,
   "id": "5a15f7df-182b-4195-bd47-a42ad53766e3",
   "metadata": {
    "tags": []
   },
   "outputs": [
    {
     "data": {
      "text/plain": [
       "3.3333333333333335"
      ]
     },
     "execution_count": 2,
     "metadata": {},
     "output_type": "execute_result"
    }
   ],
   "source": [
    "# This will convert 200 minutes to hours by dividing by 60.\n",
    "hours = 200 / 60\n",
    "hours\n"
   ]
  },
  {
   "cell_type": "markdown",
   "id": "3639b461-fb8b-402e-8818-c0a1c6d902a9",
   "metadata": {},
   "source": [
    "## Author\n",
    "\n",
    "Pankaj Tope"
   ]
  },
  {
   "cell_type": "code",
   "execution_count": null,
   "id": "b51feb50-00c4-4e7d-9bec-af452ad72023",
   "metadata": {},
   "outputs": [],
   "source": []
  }
 ],
 "metadata": {
  "kernelspec": {
   "display_name": "Python",
   "language": "python",
   "name": "conda-env-python-py"
  },
  "language_info": {
   "codemirror_mode": {
    "name": "ipython",
    "version": 3
   },
   "file_extension": ".py",
   "mimetype": "text/x-python",
   "name": "python",
   "nbconvert_exporter": "python",
   "pygments_lexer": "ipython3",
   "version": "3.7.12"
  }
 },
 "nbformat": 4,
 "nbformat_minor": 5
}
